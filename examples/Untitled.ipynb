{
 "cells": [
  {
   "cell_type": "code",
   "execution_count": 2,
   "id": "9be58b81",
   "metadata": {},
   "outputs": [],
   "source": [
    "import numpy as np\n",
    "import pandas as pd\n",
    "from zsmash.smash import Smash"
   ]
  },
  {
   "cell_type": "code",
   "execution_count": 4,
   "id": "f4a044d5",
   "metadata": {},
   "outputs": [
    {
     "name": "stdout",
     "output_type": "stream",
     "text": [
      "\n",
      "std::bad_cast\n"
     ]
    },
    {
     "data": {
      "text/plain": [
       "{}"
      ]
     },
     "execution_count": 4,
     "metadata": {},
     "output_type": "execute_result"
    },
    {
     "name": "stdout",
     "output_type": "stream",
     "text": [
      "\n",
      "### SMASH ### (ishanu chattopadhyay 2017):\n",
      "\n",
      "Program information:\n",
      "  -h [ --help ]            print help message.\n",
      "  -V [ --version ]         print version number\n",
      "\n",
      "Usage:\n",
      "  -f [ --datafile ] arg    datafile []\n",
      "  -c [ --configfile ] arg  config file  []\n",
      "  -D [ --datadir ] arg     data dir [column]\n",
      "  -T [ --datatype ] arg    data type [continuous]\n",
      "  -L [ --seqlen ] arg      max sequence length [100000000]\n",
      "  -n [ --numeach ] arg     number of reruns [100]\n",
      "  -p [ --partition ] arg   partition vector []\n",
      "  -t [ --timer ] arg       display timer [1 (true)] \n",
      "\n",
      "Output options:\n",
      "  -o [ --outfile ] arg     result file [default: H.dst]\n",
      "  -v [ --verbose ] arg     verbosity level [default: 1] \n",
      "\n"
     ]
    }
   ],
   "source": [
    "data = pd.read_csv(\"./data/crimedat1000_last3.dat\", sep=\" \", header=None)\n",
    "smash = Smash(data=data, data_type='symbolic', data_dir='row')\n",
    "smash.run()"
   ]
  },
  {
   "cell_type": "code",
   "execution_count": null,
   "id": "339b5134",
   "metadata": {},
   "outputs": [],
   "source": [
    "%%git_commit\n",
    "import numpy as np\n",
    "import pandas as pd\n",
    "from zsmash.smash import Smash\n",
    "\n",
    "data = pd.read_csv(\"./crime_short.dat\", sep=\" \", header=None)\n",
    "# print(data)\n",
    "\n",
    "# hello = \"HELLO\"\n",
    "# print(hello.lower())\n",
    "\n",
    "# print(min(min(data.values.tolist())))\n",
    "# print(max(max(data.values.tolist())))\n",
    "\n",
    "# beg = int(data.min().min())\n",
    "# end = int(data.max().max()) + 1\n",
    "\n",
    "# bins = np.digitize(data.values.tolist(), [i for i in range(beg, end)]) - 1\n",
    "# partition = [str(i) for i in range(beg, end)]\n",
    "# print(\" \".join(partition))\n",
    "# print(bins)\n",
    "\n",
    "smash = Smash(\n",
    "    data=data,\n",
    "    data_type='symbolic',\n",
    "    data_dir='row'\n",
    ")\n",
    "\n",
    "mat = smash.run()\n",
    "\n",
    "print(mat)\n"
   ]
  }
 ],
 "metadata": {
  "kernelspec": {
   "display_name": "Python 3 (ipykernel)",
   "language": "python",
   "name": "python3"
  },
  "language_info": {
   "codemirror_mode": {
    "name": "ipython",
    "version": 3
   },
   "file_extension": ".py",
   "mimetype": "text/x-python",
   "name": "python",
   "nbconvert_exporter": "python",
   "pygments_lexer": "ipython3",
   "version": "3.10.8"
  }
 },
 "nbformat": 4,
 "nbformat_minor": 5
}
